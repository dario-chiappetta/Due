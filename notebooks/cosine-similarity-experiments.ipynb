{
 "cells": [
  {
   "cell_type": "markdown",
   "metadata": {},
   "source": [
    "# Cosine Similarity Experiments\n",
    "Justo some code to get acquainted with the tools NLTK and scikit-learn provide to achieve a similarity measure between sentences."
   ]
  },
  {
   "cell_type": "code",
   "execution_count": 47,
   "metadata": {
    "collapsed": true
   },
   "outputs": [],
   "source": [
    "s1 = \"hi there!\"\n",
    "s2 = \"Hello There\"\n",
    "s3 = \"way out of line...\""
   ]
  },
  {
   "cell_type": "markdown",
   "metadata": {},
   "source": [
    "## Base case\n",
    "Taken from here: http://stackoverflow.com/a/24129170/6356914"
   ]
  },
  {
   "cell_type": "code",
   "execution_count": 52,
   "metadata": {
    "collapsed": false
   },
   "outputs": [],
   "source": [
    "import nltk\n",
    "from sklearn.feature_extraction.text import TfidfVectorizer\n",
    "\n",
    "simple_vectorizer = TfidfVectorizer()\n",
    "\n",
    "def cosine_similarity(text, other_text, vectorizer):\n",
    "    tfidf = vectorizer.fit_transform([text, other_text])\n",
    "    return (tfidf*tfidf.T).A[0,1]"
   ]
  },
  {
   "cell_type": "code",
   "execution_count": 53,
   "metadata": {
    "collapsed": false,
    "scrolled": true
   },
   "outputs": [
    {
     "data": {
      "text/plain": [
       "0.3360969272762574"
      ]
     },
     "execution_count": 53,
     "metadata": {},
     "output_type": "execute_result"
    }
   ],
   "source": [
    "cosine_similarity(s1, s2, simple_vectorizer)"
   ]
  },
  {
   "cell_type": "markdown",
   "metadata": {},
   "source": [
    "## Normalization: Lowercase, Stem, Remove Punctuation\n",
    "Taken from the same Stackoverflow answer"
   ]
  },
  {
   "cell_type": "code",
   "execution_count": 54,
   "metadata": {
    "collapsed": true
   },
   "outputs": [],
   "source": [
    "import string\n",
    "\n",
    "remove_punctuation_map = dict((ord(c), None) for c in string.punctuation)\n",
    "stemmer = nltk.stem.porter.PorterStemmer()\n",
    "def stem_tokens(tokens):\n",
    "    return [stemmer.stem(t) for t in tokens]\n",
    "\n",
    "def normalize(text):\n",
    "    return stem_tokens(nltk.wordpunct_tokenize(text.lower()))\n",
    "\n",
    "normalized_vectorizer = TfidfVectorizer(tokenizer=normalize)"
   ]
  },
  {
   "cell_type": "code",
   "execution_count": 55,
   "metadata": {
    "collapsed": false
   },
   "outputs": [
    {
     "data": {
      "text/plain": [
       "['hello', 'to', 'everyon', ',', 'my', 'plural', 'noun', 'are', 'veri', 'cool']"
      ]
     },
     "execution_count": 55,
     "metadata": {},
     "output_type": "execute_result"
    }
   ],
   "source": [
    "normalize(\"Hello to EVERYONE, my plural nouns are very cool\")"
   ]
  },
  {
   "cell_type": "code",
   "execution_count": 58,
   "metadata": {
    "collapsed": false
   },
   "outputs": [
    {
     "name": "stdout",
     "output_type": "stream",
     "text": [
      "['hi', 'there', '!']\n",
      "['hello', 'there']\n"
     ]
    },
    {
     "data": {
      "text/plain": [
       "0.26055567105626237"
      ]
     },
     "execution_count": 58,
     "metadata": {},
     "output_type": "execute_result"
    }
   ],
   "source": [
    "print(normalize(s1))\n",
    "print(normalize(s2))\n",
    "cosine_similarity(s1, s2, normalized_vectorizer)"
   ]
  }
 ],
 "metadata": {
  "anaconda-cloud": {},
  "kernelspec": {
   "display_name": "Python [conda root]",
   "language": "python",
   "name": "conda-root-py"
  },
  "language_info": {
   "codemirror_mode": {
    "name": "ipython",
    "version": 3
   },
   "file_extension": ".py",
   "mimetype": "text/x-python",
   "name": "python",
   "nbconvert_exporter": "python",
   "pygments_lexer": "ipython3",
   "version": "3.5.2"
  }
 },
 "nbformat": 4,
 "nbformat_minor": 1
}
