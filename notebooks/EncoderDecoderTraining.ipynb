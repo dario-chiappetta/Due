{
 "cells": [
  {
   "cell_type": "code",
   "execution_count": 1,
   "metadata": {},
   "outputs": [],
   "source": [
    "from tqdm import tqdm_notebook as tqdm"
   ]
  },
  {
   "cell_type": "markdown",
   "metadata": {},
   "source": [
    "# Resume Training\n",
    "\n",
    "## Load brain "
   ]
  },
  {
   "cell_type": "code",
   "execution_count": 2,
   "metadata": {},
   "outputs": [],
   "source": [
    "import torch\n",
    "brain_data = torch.load(\"encdec-2xgru2048-cornell-50K-glove6B_300-vmin25-e3.pt\")"
   ]
  },
  {
   "cell_type": "code",
   "execution_count": 3,
   "metadata": {},
   "outputs": [],
   "source": [
    "from due.models.seq2seq import EncoderDecoderBrain\n",
    "brain = EncoderDecoderBrain.load(brain_data)"
   ]
  },
  {
   "cell_type": "code",
   "execution_count": 4,
   "metadata": {},
   "outputs": [],
   "source": [
    "# brain = brain_base.reset_with_parameters({\n",
    "#     'batch_size': 128,\n",
    "#     'hidden_size': 2048,\n",
    "#     'num_rnn_layers': 2\n",
    "# })"
   ]
  },
  {
   "cell_type": "markdown",
   "metadata": {},
   "source": [
    "## Train"
   ]
  },
  {
   "cell_type": "code",
   "execution_count": 5,
   "metadata": {},
   "outputs": [
    {
     "data": {
      "text/plain": [
       "3"
      ]
     },
     "execution_count": 5,
     "metadata": {},
     "output_type": "execute_result"
    }
   ],
   "source": [
    "brain.epochs"
   ]
  },
  {
   "cell_type": "code",
   "execution_count": 6,
   "metadata": {},
   "outputs": [
    {
     "data": {
      "application/vnd.jupyter.widget-view+json": {
       "model_id": "99839c175e234fb49ba27dacff49853a",
       "version_major": 2,
       "version_minor": 0
      },
      "text/plain": [
       "HBox(children=(IntProgress(value=0, max=1045), HTML(value='')))"
      ]
     },
     "metadata": {},
     "output_type": "display_data"
    },
    {
     "name": "stdout",
     "output_type": "stream",
     "text": [
      "\n"
     ]
    }
   ],
   "source": [
    "for i in range(1):\n",
    "    brain.epoch()"
   ]
  },
  {
   "cell_type": "markdown",
   "metadata": {},
   "source": [
    "## Sample predictions "
   ]
  },
  {
   "cell_type": "code",
   "execution_count": 7,
   "metadata": {},
   "outputs": [
    {
     "name": "stdout",
     "output_type": "stream",
     "text": [
      "i 'm not <UNK> .\n",
      "<UNK> , <UNK> .\n",
      "<UNK> , <UNK> .\n",
      "<UNK> , <UNK> .\n",
      "\n",
      "i 'm not <UNK> .\n",
      "i 'm not <UNK> .\n",
      "i 'm not <UNK> .\n",
      "\n",
      "i 'm not <UNK> .\n",
      "i 'm not <UNK> .\n",
      "i 'm not <UNK> .\n",
      "i 'm not <UNK> .\n",
      "i 'm not <UNK> .\n",
      "i 'm not <UNK> .\n",
      "\n",
      "i 'm not <UNK> .\n",
      "i 'm not <UNK> .\n",
      "i 'm not <UNK> .\n",
      "i 'm not <UNK> .\n",
      "i 'm not <UNK> .\n",
      "i 'm not <UNK> .\n",
      "i 'm not <UNK> .\n",
      "i 'm not <UNK> .\n",
      "i 'm not <UNK> .\n",
      "i 'm not <UNK> .\n",
      "\n",
      "<UNK> , <UNK> .\n",
      "<UNK> , <UNK> .\n",
      "i 'm not <UNK> .\n",
      "i 'm not <UNK> .\n",
      "i 'm not <UNK> .\n",
      "i 'm not <UNK> .\n"
     ]
    }
   ],
   "source": [
    "print(brain.predict(\"I'm in, and you?\"))\n",
    "print(brain.predict(\"no...\"))\n",
    "print(brain.predict(\"let's go!\"))\n",
    "print(brain.predict(\"yes!\"))\n",
    "print()\n",
    "print(brain.predict(\"Cancellor palpatine is worse than darth vader\"))\n",
    "print(brain.predict(\"Is Anakin Skywalker evil?\"))\n",
    "print(brain.predict(\"What's the meaning of life?\"))\n",
    "print()\n",
    "print(brain.predict(\"So what color lightsaber is the best?\"))\n",
    "print(brain.predict(\"hey have you seen any star wars movies lately?\"))\n",
    "print(brain.predict(\"I read the other day that a lot of the structure of Star Wars was based Akira Kurosawa movies.\"))\n",
    "print(brain.predict(\"return of the jedi is my favourite\"))\n",
    "print(brain.predict(\"han shot first\"))\n",
    "print(brain.predict(\"cantina band is a great piece of music\"))\n",
    "print()\n",
    "print(brain.predict(\"who is Darth Vader\"))\n",
    "print(brain.predict(\"do you like han solo?\"))\n",
    "print(brain.predict(\"did you like Clone Wars?\"))\n",
    "print(brain.predict(\"What's the best movie in the trilogy?\"))\n",
    "print(brain.predict(\"Hey I got a question for you\"))\n",
    "print(brain.predict(\"is the millennium falcon faster than an imperial crusader?\"))\n",
    "print(brain.predict(\"is the original trilogy better than the prequels?\"))\n",
    "print(brain.predict(\"did you like the prequels?\"))\n",
    "print(brain.predict(\"who's the best character in the empire strikes again?\"))\n",
    "print(brain.predict(\"i think prequels are overrated!\"))\n",
    "print()\n",
    "print(brain.predict(\"hi\"))\n",
    "print(brain.predict(\"hello\"))\n",
    "print(brain.predict(\"what's your name?\"))\n",
    "print(brain.predict(\"my name is Anna\"))\n",
    "print(brain.predict(\"good to see you\"))\n",
    "print(brain.predict(\"i like wine, and you?\"))"
   ]
  },
  {
   "cell_type": "markdown",
   "metadata": {},
   "source": [
    "# Save "
   ]
  },
  {
   "cell_type": "code",
   "execution_count": 8,
   "metadata": {},
   "outputs": [
    {
     "data": {
      "text/plain": [
       "4"
      ]
     },
     "execution_count": 8,
     "metadata": {},
     "output_type": "execute_result"
    }
   ],
   "source": [
    "brain.epochs"
   ]
  },
  {
   "cell_type": "code",
   "execution_count": 9,
   "metadata": {
    "scrolled": true
   },
   "outputs": [
    {
     "data": {
      "text/plain": [
       "{'batch_size': 128,\n",
       " 'hidden_size': 2048,\n",
       " 'learning_rate': 0.01,\n",
       " 'max_sentence_length': 20,\n",
       " 'teacher_forcing_ratio': 1.0,\n",
       " 'num_rnn_layers': 2}"
      ]
     },
     "execution_count": 9,
     "metadata": {},
     "output_type": "execute_result"
    }
   ],
   "source": [
    "brain.parameters"
   ]
  },
  {
   "cell_type": "code",
   "execution_count": 11,
   "metadata": {},
   "outputs": [],
   "source": [
    "saved_brain = brain.save()"
   ]
  },
  {
   "cell_type": "code",
   "execution_count": 12,
   "metadata": {},
   "outputs": [],
   "source": [
    "torch.save(saved_brain, \"encdec-%sxgru%s-cornell-50K-glove6B_300-vmin25-e%s.pt\" % \n",
    "           (brain.parameters['num_rnn_layers'], brain.parameters['hidden_size'], brain.epochs))"
   ]
  },
  {
   "cell_type": "code",
   "execution_count": 13,
   "metadata": {},
   "outputs": [
    {
     "data": {
      "text/plain": [
       "[2.9676, 2.6563079481978824, 2.539921265621885, 2.463710880866219]"
      ]
     },
     "execution_count": 13,
     "metadata": {},
     "output_type": "execute_result"
    }
   ],
   "source": [
    "brain.train_loss_history"
   ]
  },
  {
   "cell_type": "markdown",
   "metadata": {},
   "source": [
    "# From Scratch "
   ]
  },
  {
   "cell_type": "code",
   "execution_count": 1,
   "metadata": {},
   "outputs": [
    {
     "data": {
      "application/vnd.jupyter.widget-view+json": {
       "model_id": "4007e8dc44ff45219ccff601d01a2448",
       "version_major": 2,
       "version_minor": 0
      },
      "text/plain": [
       "HBox(children=(IntProgress(value=0, max=83097), HTML(value='')))"
      ]
     },
     "metadata": {},
     "output_type": "display_data"
    },
    {
     "name": "stdout",
     "output_type": "stream",
     "text": [
      "\n"
     ]
    }
   ],
   "source": [
    "from due.corpora import cornell\n",
    "import itertools\n",
    "\n",
    "N_DIALOGS = 1000\n",
    "\n",
    "episodes = list(itertools.islice(cornell.episode_generator(), N_DIALOGS))"
   ]
  },
  {
   "cell_type": "code",
   "execution_count": 2,
   "metadata": {},
   "outputs": [
    {
     "name": "stderr",
     "output_type": "stream",
     "text": [
      "INFO:due.models.seq2seq:Extracting dataset from episodes\n"
     ]
    },
    {
     "data": {
      "application/vnd.jupyter.widget-view+json": {
       "model_id": "ebba37be503e4234924b21685b5d87f9",
       "version_major": 2,
       "version_minor": 0
      },
      "text/plain": [
       "HBox(children=(IntProgress(value=0, max=1000), HTML(value='')))"
      ]
     },
     "metadata": {},
     "output_type": "display_data"
    },
    {
     "name": "stderr",
     "output_type": "stream",
     "text": [
      "INFO:due.models.seq2seq:Building the embedding matrix\n"
     ]
    },
    {
     "name": "stdout",
     "output_type": "stream",
     "text": [
      "\n"
     ]
    },
    {
     "data": {
      "application/vnd.jupyter.widget-view+json": {
       "model_id": "ad6fab36006944689e2d7e5a145ba106",
       "version_major": 2,
       "version_minor": 0
      },
      "text/plain": [
       "HBox(children=(IntProgress(value=1, bar_style='info', max=1), HTML(value='')))"
      ]
     },
     "metadata": {},
     "output_type": "display_data"
    },
    {
     "name": "stderr",
     "output_type": "stream",
     "text": [
      "INFO:due.models.seq2seq:Initializing model\n"
     ]
    },
    {
     "name": "stdout",
     "output_type": "stream",
     "text": [
      "\n"
     ]
    }
   ],
   "source": [
    "from due.models.seq2seq import EncoderDecoderBrain\n",
    "\n",
    "brain = EncoderDecoderBrain({}, episodes)"
   ]
  },
  {
   "cell_type": "code",
   "execution_count": 3,
   "metadata": {},
   "outputs": [
    {
     "data": {
      "application/vnd.jupyter.widget-view+json": {
       "model_id": "5a2091279eed46c7a275b167851744fd",
       "version_major": 2,
       "version_minor": 0
      },
      "text/plain": [
       "HBox(children=(IntProgress(value=0, max=39), HTML(value='')))"
      ]
     },
     "metadata": {},
     "output_type": "display_data"
    },
    {
     "name": "stdout",
     "output_type": "stream",
     "text": [
      "\n"
     ]
    }
   ],
   "source": [
    "for i in range(1):\n",
    "    brain.epoch()"
   ]
  },
  {
   "cell_type": "code",
   "execution_count": null,
   "metadata": {},
   "outputs": [],
   "source": []
  }
 ],
 "metadata": {
  "kernelspec": {
   "display_name": "Python 3",
   "language": "python",
   "name": "python3"
  },
  "language_info": {
   "codemirror_mode": {
    "name": "ipython",
    "version": 3
   },
   "file_extension": ".py",
   "mimetype": "text/x-python",
   "name": "python",
   "nbconvert_exporter": "python",
   "pygments_lexer": "ipython3",
   "version": "3.6.3"
  }
 },
 "nbformat": 4,
 "nbformat_minor": 2
}
