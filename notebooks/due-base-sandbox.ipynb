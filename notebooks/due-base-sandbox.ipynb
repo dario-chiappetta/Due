{
 "cells": [
  {
   "cell_type": "markdown",
   "metadata": {},
   "source": [
    "# Base case\n",
    "A brainless Due agent is instantiated and a conversation is started. The episode is then saved."
   ]
  },
  {
   "cell_type": "code",
   "execution_count": 2,
   "metadata": {
    "collapsed": false
   },
   "outputs": [
    {
     "name": "stderr",
     "output_type": "stream",
     "text": [
      "INFO:due.agent.Due:Got invited to a new episode.\n",
      "INFO:due.episode.Episode:New utterance by <Agent: Dario>: 'Hi!'\n",
      "INFO:due.episode.Episode:Notifying Agent <Agent: Due>.\n",
      "INFO:due.agent.Due:Received utterance\n",
      "INFO:due.agent.Due:This is where I should do something with the Brain...\n",
      "INFO:due.brain.CosineBrain:No answers found.\n"
     ]
    }
   ],
   "source": [
    "from due import agent, episode\n",
    "\n",
    "due = agent.Due()\n",
    "me = agent.HumanAgent(name=\"Dario\")\n",
    "\n",
    "e = me.start_episode(due)\n",
    "\n",
    "me.say(\"Hi!\", e)"
   ]
  },
  {
   "cell_type": "code",
   "execution_count": 3,
   "metadata": {
    "collapsed": false
   },
   "outputs": [
    {
     "data": {
      "text/plain": [
       "{'agents': [UUID('8535ccfa-c9f3-11e6-9092-a434d9562d81'),\n",
       "  UUID('423cc038-bfe0-11e6-84d6-a434d9562d81')],\n",
       " 'events': [['utterance',\n",
       "   datetime.datetime(2016, 12, 24, 17, 10, 43, 51987),\n",
       "   UUID('8535ccfa-c9f3-11e6-9092-a434d9562d81'),\n",
       "   'Hi!']],\n",
       " 'id': UUID('8535ccfb-c9f3-11e6-9092-a434d9562d81')}"
      ]
     },
     "execution_count": 3,
     "metadata": {},
     "output_type": "execute_result"
    }
   ],
   "source": [
    "episode.Episode.save(e)"
   ]
  },
  {
   "cell_type": "markdown",
   "metadata": {},
   "source": [
    "# Episode learning\n",
    "Two episodes are created manually using human agents. These episodes are then fed to a Due agent, and said agent is then involved in a new episode."
   ]
  },
  {
   "cell_type": "code",
   "execution_count": 2,
   "metadata": {
    "collapsed": false
   },
   "outputs": [
    {
     "name": "stderr",
     "output_type": "stream",
     "text": [
      "INFO:due.agent.HumanAgent:New episode callback: <due.episode.Episode object at 0x7f4dc32ce8d0>\n",
      "INFO:due.episode.Episode:New utterance by <Agent: Alice>: 'Hi!'\n",
      "INFO:due.episode.Episode:Notifying Agent <Agent: Bob>.\n",
      "INFO:due.agent.HumanAgent:Utterance received.\n",
      "INFO:due.episode.Episode:New utterance by <Agent: Bob>: 'Hi!'\n",
      "INFO:due.episode.Episode:Notifying Agent <Agent: Alice>.\n",
      "INFO:due.agent.HumanAgent:Utterance received.\n",
      "INFO:due.episode.Episode:New utterance by <Agent: Alice>: 'How are you?'\n",
      "INFO:due.episode.Episode:Notifying Agent <Agent: Bob>.\n",
      "INFO:due.agent.HumanAgent:Utterance received.\n",
      "INFO:due.episode.Episode:New utterance by <Agent: Bob>: 'Good thanks, and you?'\n",
      "INFO:due.episode.Episode:Notifying Agent <Agent: Alice>.\n",
      "INFO:due.agent.HumanAgent:Utterance received.\n",
      "INFO:due.episode.Episode:New utterance by <Agent: Alice>: 'I'm doing fine, thank you'\n",
      "INFO:due.episode.Episode:Notifying Agent <Agent: Bob>.\n",
      "INFO:due.agent.HumanAgent:Utterance received.\n",
      "INFO:due.episode.Episode:New utterance by <Agent: Bob>: 'Bye'\n",
      "INFO:due.episode.Episode:Notifying Agent <Agent: Alice>.\n",
      "INFO:due.agent.HumanAgent:Utterance received.\n",
      "INFO:due.episode.Episode:New utterance by <Agent: Alice>: 'See ya!'\n",
      "INFO:due.episode.Episode:Notifying Agent <Agent: Bob>.\n",
      "INFO:due.agent.HumanAgent:Utterance received.\n",
      "INFO:due.agent.HumanAgent:New episode callback: <due.episode.Episode object at 0x7f4df01afa58>\n",
      "INFO:due.episode.Episode:New utterance by <Agent: Alice>: 'Hey'\n",
      "INFO:due.episode.Episode:Notifying Agent <Agent: Bob>.\n",
      "INFO:due.agent.HumanAgent:Utterance received.\n",
      "INFO:due.episode.Episode:New utterance by <Agent: Bob>: 'Hey, what's up?'\n",
      "INFO:due.episode.Episode:Notifying Agent <Agent: Alice>.\n",
      "INFO:due.agent.HumanAgent:Utterance received.\n",
      "INFO:due.episode.Episode:New utterance by <Agent: Alice>: 'Nothing much, how are you doing?'\n",
      "INFO:due.episode.Episode:Notifying Agent <Agent: Bob>.\n",
      "INFO:due.agent.HumanAgent:Utterance received.\n",
      "INFO:due.episode.Episode:New utterance by <Agent: Bob>: 'I'm fine, thank you?'\n",
      "INFO:due.episode.Episode:Notifying Agent <Agent: Alice>.\n",
      "INFO:due.agent.HumanAgent:Utterance received.\n",
      "INFO:due.episode.Episode:New utterance by <Agent: Alice>: 'Good, see you'\n",
      "INFO:due.episode.Episode:Notifying Agent <Agent: Bob>.\n",
      "INFO:due.agent.HumanAgent:Utterance received.\n",
      "INFO:due.episode.Episode:New utterance by <Agent: Bob>: 'Bye'\n",
      "INFO:due.episode.Episode:Notifying Agent <Agent: Alice>.\n",
      "INFO:due.agent.HumanAgent:Utterance received.\n"
     ]
    }
   ],
   "source": [
    "from due.brain import CosineBrain\n",
    "from due import agent, episode\n",
    "\n",
    "alice = agent.HumanAgent(name=\"Alice\")\n",
    "bob = agent.HumanAgent(name=\"Bob\")\n",
    "\n",
    "e = alice.start_episode(bob)\n",
    "alice.say(\"Hi!\", e)\n",
    "bob.say(\"Hi!\", e)\n",
    "alice.say(\"How are you?\", e)\n",
    "bob.say(\"Good thanks, and you?\", e)\n",
    "alice.say(\"I'm doing fine, thank you\", e)\n",
    "bob.say(\"Bye\", e)\n",
    "alice.say(\"See ya!\", e)\n",
    "e1 = e\n",
    "\n",
    "e2 = alice.start_episode(bob)\n",
    "alice.say(\"Hey\", e2)\n",
    "bob.say(\"Hey, what's up?\", e2)\n",
    "alice.say(\"Nothing much, how are you doing?\", e2)\n",
    "bob.say(\"I'm fine, thank you?\", e2)\n",
    "alice.say(\"Good, see you\", e2)\n",
    "bob.say(\"Bye\", e2)\n"
   ]
  },
  {
   "cell_type": "code",
   "execution_count": 10,
   "metadata": {
    "collapsed": false
   },
   "outputs": [
    {
     "name": "stderr",
     "output_type": "stream",
     "text": [
      "INFO:due.agent.Due:Learning some episodes.\n"
     ]
    }
   ],
   "source": [
    "me = agent.HumanAgent(name=\"Dario\")\n",
    "due = agent.Due()\n",
    "due.learn_episodes([e1, e2])"
   ]
  },
  {
   "cell_type": "code",
   "execution_count": 12,
   "metadata": {
    "collapsed": false
   },
   "outputs": [
    {
     "name": "stderr",
     "output_type": "stream",
     "text": [
      "INFO:due.agent.Due:Got invited to a new episode.\n",
      "INFO:due.episode.Episode:New utterance by <Agent: Dario>: 'Hi!'\n",
      "INFO:due.episode.Episode:Notifying Agent <Agent: Due>.\n",
      "INFO:due.agent.Due:Received utterance\n",
      "INFO:due.agent.Due:This is where I should do something with the Brain...\n",
      "INFO:due.brain.CosineBrain:Best match: 'Hi!\n",
      "INFO:due.episode.Episode:New utterance by <Agent: Due>: 'Hi!'\n",
      "INFO:due.episode.Episode:Notifying Agent <Agent: Dario>.\n",
      "INFO:due.agent.HumanAgent:Utterance received.\n"
     ]
    }
   ],
   "source": [
    "e = me.start_episode(due)\n",
    "me.say(\"Hi!\", e)"
   ]
  },
  {
   "cell_type": "code",
   "execution_count": 13,
   "metadata": {
    "collapsed": false
   },
   "outputs": [
    {
     "name": "stderr",
     "output_type": "stream",
     "text": [
      "INFO:due.episode.Episode:New utterance by <Agent: Dario>: 'What's up?'\n",
      "INFO:due.episode.Episode:Notifying Agent <Agent: Due>.\n",
      "INFO:due.agent.Due:Received utterance\n",
      "INFO:due.agent.Due:This is where I should do something with the Brain...\n",
      "INFO:due.brain.CosineBrain:Best match: 'How are you?\n",
      "INFO:due.brain.CosineBrain:Best match: 'Hey, what's up?\n",
      "INFO:due.episode.Episode:New utterance by <Agent: Due>: 'Nothing much, how are you doing?'\n",
      "INFO:due.episode.Episode:Notifying Agent <Agent: Dario>.\n",
      "INFO:due.agent.HumanAgent:Utterance received.\n"
     ]
    }
   ],
   "source": [
    "from due.episode import Event\n",
    "e.events\n",
    "\n",
    "me.say(\"What's up?\", e)"
   ]
  }
 ],
 "metadata": {
  "anaconda-cloud": {},
  "kernelspec": {
   "display_name": "Python [conda root]",
   "language": "python",
   "name": "conda-root-py"
  },
  "language_info": {
   "codemirror_mode": {
    "name": "ipython",
    "version": 3
   },
   "file_extension": ".py",
   "mimetype": "text/x-python",
   "name": "python",
   "nbconvert_exporter": "python",
   "pygments_lexer": "ipython3",
   "version": "3.5.2"
  }
 },
 "nbformat": 4,
 "nbformat_minor": 1
}
