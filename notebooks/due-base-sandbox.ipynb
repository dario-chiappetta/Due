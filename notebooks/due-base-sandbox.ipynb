{
 "cells": [
  {
   "cell_type": "code",
   "execution_count": 22,
   "metadata": {
    "collapsed": false
   },
   "outputs": [
    {
     "name": "stderr",
     "output_type": "stream",
     "text": [
      "INFO:due.agent.Due:Got invited to a new episode.\n",
      "INFO:due.episode.Episode:New utterance by <Agent: Dario>: 'Hi!'\n",
      "INFO:due.episode.Episode:Notifying Agent <Agent: Due>.\n",
      "INFO:due.agent.Due:Received utterance\n",
      "INFO:due.agent.Due:This is where I should do something with the Brain...\n",
      "INFO:due.episode.Episode:New utterance by <Agent: Due>: 'No brain yet: this is just a default answer...'\n",
      "INFO:due.episode.Episode:Notifying Agent <Agent: Dario>.\n",
      "INFO:due.agent.HumanAgent:Utterance received.\n"
     ]
    }
   ],
   "source": [
    "from due import agent, episode\n",
    "\n",
    "due = agent.Due()\n",
    "me = agent.HumanAgent(name=\"Dario\")\n",
    "\n",
    "e = me.start_episode(due)\n",
    "\n",
    "me.say(\"Hi!\", e)"
   ]
  },
  {
   "cell_type": "code",
   "execution_count": 23,
   "metadata": {
    "collapsed": false
   },
   "outputs": [
    {
     "data": {
      "text/plain": [
       "{'agents': [UUID('427b852c-bfe8-11e6-84d6-a434d9562d81'),\n",
       "  UUID('423cc038-bfe0-11e6-84d6-a434d9562d81')],\n",
       " 'events': [['utterance',\n",
       "   datetime.datetime(2016, 12, 11, 22, 24, 55, 9963),\n",
       "   UUID('427b852c-bfe8-11e6-84d6-a434d9562d81'),\n",
       "   'Hi!'],\n",
       "  ['utterance',\n",
       "   datetime.datetime(2016, 12, 11, 22, 24, 55, 12144),\n",
       "   UUID('423cc038-bfe0-11e6-84d6-a434d9562d81'),\n",
       "   'No brain yet: this is just a default answer...']],\n",
       " 'id': UUID('427b852d-bfe8-11e6-84d6-a434d9562d81')}"
      ]
     },
     "execution_count": 23,
     "metadata": {},
     "output_type": "execute_result"
    }
   ],
   "source": [
    "episode.Episode.save(e)"
   ]
  },
  {
   "cell_type": "code",
   "execution_count": null,
   "metadata": {
    "collapsed": true
   },
   "outputs": [],
   "source": []
  }
 ],
 "metadata": {
  "anaconda-cloud": {},
  "kernelspec": {
   "display_name": "Python [conda root]",
   "language": "python",
   "name": "conda-root-py"
  },
  "language_info": {
   "codemirror_mode": {
    "name": "ipython",
    "version": 3
   },
   "file_extension": ".py",
   "mimetype": "text/x-python",
   "name": "python",
   "nbconvert_exporter": "python",
   "pygments_lexer": "ipython3",
   "version": "3.5.2"
  }
 },
 "nbformat": 4,
 "nbformat_minor": 1
}
