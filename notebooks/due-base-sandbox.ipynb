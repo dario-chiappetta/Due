{
 "cells": [
  {
   "cell_type": "markdown",
   "metadata": {},
   "source": [
    "# Base case\n",
    "A brainless Due agent is instantiated and a conversation is started. The episode is then saved."
   ]
  },
  {
   "cell_type": "code",
   "execution_count": 1,
   "metadata": {
    "collapsed": false
   },
   "outputs": [
    {
     "name": "stderr",
     "output_type": "stream",
     "text": [
      "INFO:due.agent.Due:Got invited to a new episode.\n",
      "INFO:due.episode.Episode:New utterance by <Agent: Dario>: 'Hi!'\n",
      "INFO:due.episode.Episode:Notifying Agent <Agent: Due>.\n",
      "INFO:due.agent.Due:Received utterance\n",
      "INFO:due.brain.CosineBrain:No answers found.\n"
     ]
    }
   ],
   "source": [
    "from due import agent, episode\n",
    "\n",
    "due = agent.Due()\n",
    "me = agent.HumanAgent(name=\"Dario\")\n",
    "\n",
    "e = me.start_episode(due)\n",
    "\n",
    "me.say(\"Hi!\", e)"
   ]
  },
  {
   "cell_type": "code",
   "execution_count": 2,
   "metadata": {
    "collapsed": false
   },
   "outputs": [
    {
     "data": {
      "text/plain": [
       "{'agents': [UUID('6e773b5a-caea-11e6-b4dd-a434d9562d81'),\n",
       "  UUID('423cc038-bfe0-11e6-84d6-a434d9562d81')],\n",
       " 'events': [['utterance',\n",
       "   datetime.datetime(2016, 12, 25, 22, 38, 10, 585813),\n",
       "   UUID('6e773b5a-caea-11e6-b4dd-a434d9562d81'),\n",
       "   'Hi!']],\n",
       " 'id': UUID('6e773b5b-caea-11e6-b4dd-a434d9562d81')}"
      ]
     },
     "execution_count": 2,
     "metadata": {},
     "output_type": "execute_result"
    }
   ],
   "source": [
    "episode.Episode.save(e)"
   ]
  },
  {
   "cell_type": "markdown",
   "metadata": {},
   "source": [
    "# Episode learning\n",
    "Two episodes are created manually using human agents. These episodes are then fed to a Due agent, and said agent is then involved in a new episode."
   ]
  },
  {
   "cell_type": "code",
   "execution_count": 3,
   "metadata": {
    "collapsed": false
   },
   "outputs": [
    {
     "name": "stderr",
     "output_type": "stream",
     "text": [
      "INFO:due.agent.HumanAgent:New episode callback: <due.episode.Episode object at 0x7f7cf0df30f0>\n",
      "INFO:due.episode.Episode:New utterance by <Agent: Alice>: 'Hi!'\n",
      "INFO:due.episode.Episode:New utterance by <Agent: Bob>: 'Hi!'\n",
      "INFO:due.episode.Episode:New utterance by <Agent: Alice>: 'How are you?'\n",
      "INFO:due.episode.Episode:New utterance by <Agent: Bob>: 'Good thanks, and you?'\n",
      "INFO:due.episode.Episode:New utterance by <Agent: Alice>: 'I'm doing fine, thank you'\n",
      "INFO:due.episode.Episode:New utterance by <Agent: Bob>: 'Bye'\n",
      "INFO:due.episode.Episode:New utterance by <Agent: Alice>: 'See ya!'\n",
      "INFO:due.episode.Episode:Agent <Agent: Alice> left.\n",
      "INFO:due.agent.HumanAgent:New episode callback: <due.episode.Episode object at 0x7f7cf0df31d0>\n",
      "INFO:due.episode.Episode:New utterance by <Agent: Alice>: 'Hey'\n",
      "INFO:due.episode.Episode:New utterance by <Agent: Bob>: 'Hey, what's up?'\n",
      "INFO:due.episode.Episode:New utterance by <Agent: Alice>: 'Nothing much'\n",
      "INFO:due.episode.Episode:New utterance by <Agent: Alice>: 'how are you doing?'\n",
      "INFO:due.episode.Episode:New utterance by <Agent: Bob>: 'I'm fine'\n",
      "INFO:due.episode.Episode:New utterance by <Agent: Bob>: 'thank you'\n",
      "INFO:due.episode.Episode:New utterance by <Agent: Alice>: 'Good, see you!'\n",
      "INFO:due.episode.Episode:New utterance by <Agent: Bob>: 'Bye'\n",
      "INFO:due.episode.Episode:Agent <Agent: Bob> left.\n"
     ]
    }
   ],
   "source": [
    "from due.brain import CosineBrain\n",
    "from due import agent, episode\n",
    "\n",
    "alice = agent.HumanAgent(name=\"Alice\")\n",
    "bob = agent.HumanAgent(name=\"Bob\")\n",
    "\n",
    "e = alice.start_episode(bob)\n",
    "alice.say(\"Hi!\", e)\n",
    "bob.say(\"Hi!\", e)\n",
    "alice.say(\"How are you?\", e)\n",
    "bob.say(\"Good thanks, and you?\", e)\n",
    "alice.say(\"I'm doing fine, thank you\", e)\n",
    "bob.say(\"Bye\", e)\n",
    "alice.say(\"See ya!\", e)\n",
    "alice.leave(e)\n",
    "e1 = e\n",
    "\n",
    "e2 = alice.start_episode(bob)\n",
    "alice.say(\"Hey\", e2)\n",
    "bob.say(\"Hey, what's up?\", e2)\n",
    "alice.say(\"Nothing much\", e2)\n",
    "alice.say(\"how are you doing?\", e2)\n",
    "bob.say(\"I'm fine\", e2)\n",
    "bob.say(\"thank you\", e2)\n",
    "alice.say(\"Good, see you!\", e2)\n",
    "bob.say(\"Bye\", e2)\n",
    "bob.leave(e2)\n"
   ]
  },
  {
   "cell_type": "code",
   "execution_count": 4,
   "metadata": {
    "collapsed": false
   },
   "outputs": [
    {
     "name": "stderr",
     "output_type": "stream",
     "text": [
      "INFO:due.agent.Due:Learning some episodes.\n"
     ]
    }
   ],
   "source": [
    "me = agent.HumanAgent(name=\"Dario\")\n",
    "due = agent.Due()\n",
    "due.learn_episodes([e1, e2])"
   ]
  },
  {
   "cell_type": "code",
   "execution_count": 7,
   "metadata": {
    "collapsed": false
   },
   "outputs": [
    {
     "name": "stderr",
     "output_type": "stream",
     "text": [
      "INFO:due.agent.Due:Got invited to a new episode.\n",
      "INFO:due.episode.Episode:New utterance by <Agent: Dario>: 'Hey, what's up?'\n",
      "INFO:due.brain.CosineBrain:Matching utterance: 'Hey, what's up?'\n",
      "INFO:due.brain.CosineBrain:Best match so far: 'Good thanks, and you?'. Score: 0.184431916623\n",
      "INFO:due.brain.CosineBrain:Best match so far: 'Hey, what's up?'. Score: 1.0\n",
      "INFO:due.episode.Episode:New utterance by <Agent: Due>: 'Nothing much'\n",
      "INFO:due.episode.Episode:New utterance by <Agent: Due>: 'how are you doing?'\n"
     ]
    }
   ],
   "source": [
    "e = me.start_episode(due)\n",
    "me.say(\"Hey, what's up?\", e)"
   ]
  },
  {
   "cell_type": "markdown",
   "metadata": {},
   "source": [
    "## Online Learning\n",
    "We continue the episode we started introducing a new utterance. We leave the episode, so that the Agent can learn it, and try to bring up the newly learnt sentence in a new episode."
   ]
  },
  {
   "cell_type": "code",
   "execution_count": 4,
   "metadata": {
    "collapsed": false
   },
   "outputs": [
    {
     "name": "stderr",
     "output_type": "stream",
     "text": [
      "INFO:due.episode.Episode:New utterance by <Agent: Dario>: 'What's up?'\n",
      "INFO:due.episode.Episode:Type.Utterance\n",
      "INFO:due.episode.Episode:<enum 'Type'>\n",
      "INFO:due.episode.Episode:True\n",
      "INFO:due.episode.Episode:(<Type.Utterance: 'utterance'>,)\n",
      "INFO:due.episode.Episode:<class 'tuple'>\n",
      "INFO:due.brain.CosineBrain:Best match: 'How are you?\n",
      "INFO:due.brain.CosineBrain:Best match: 'Hey, what's up?\n",
      "INFO:due.episode.Episode:New utterance by <Agent: Due>: 'Nothing much, how are you doing?'\n"
     ]
    }
   ],
   "source": [
    "from due.episode import Event\n",
    "e.events\n",
    "\n",
    "me.say(\"What's up?\", e)"
   ]
  },
  {
   "cell_type": "code",
   "execution_count": 5,
   "metadata": {
    "collapsed": false
   },
   "outputs": [
    {
     "name": "stderr",
     "output_type": "stream",
     "text": [
      "INFO:due.episode.Episode:New utterance by <Agent: Dario>: 'Hella good homie!'\n",
      "INFO:due.episode.Episode:Notifying Agent <Agent: Due>.\n",
      "INFO:due.agent.Due:Received utterance\n",
      "INFO:due.brain.CosineBrain:Best match: 'Hi!\n",
      "INFO:due.brain.CosineBrain:Best match: 'Good, see you\n",
      "INFO:due.episode.Episode:New utterance by <Agent: Due>: 'Bye'\n",
      "INFO:due.episode.Episode:Notifying Agent <Agent: Dario>.\n",
      "INFO:due.agent.HumanAgent:Utterance received.\n"
     ]
    }
   ],
   "source": [
    "me.say(\"Hella good homie!\", e)"
   ]
  },
  {
   "cell_type": "code",
   "execution_count": 6,
   "metadata": {
    "collapsed": false
   },
   "outputs": [
    {
     "name": "stderr",
     "output_type": "stream",
     "text": [
      "INFO:due.episode.Episode:Agent <Agent: Dario> left.\n",
      "INFO:due.episode.Episode:Notifying Agent <Agent: Due>.\n",
      "INFO:due.agent.Due:Agent <Agent: Dario> left the episode.\n"
     ]
    }
   ],
   "source": [
    "me.leave(e)"
   ]
  },
  {
   "cell_type": "code",
   "execution_count": 7,
   "metadata": {
    "collapsed": false
   },
   "outputs": [
    {
     "name": "stderr",
     "output_type": "stream",
     "text": [
      "INFO:due.agent.Due:Got invited to a new episode.\n",
      "INFO:due.episode.Episode:New utterance by <Agent: Dario>: 'Hi!'\n",
      "INFO:due.episode.Episode:Notifying Agent <Agent: Due>.\n",
      "INFO:due.agent.Due:Received utterance\n",
      "INFO:due.brain.CosineBrain:Best match: 'Hi!\n",
      "INFO:due.brain.CosineBrain:Best match: 'Hi!\n",
      "INFO:due.episode.Episode:New utterance by <Agent: Due>: 'Hi!'\n",
      "INFO:due.episode.Episode:Notifying Agent <Agent: Dario>.\n",
      "INFO:due.agent.HumanAgent:Utterance received.\n"
     ]
    }
   ],
   "source": [
    "e = me.start_episode(due)\n",
    "me.say(\"Hi!\", e)"
   ]
  },
  {
   "cell_type": "code",
   "execution_count": 9,
   "metadata": {
    "collapsed": false
   },
   "outputs": [
    {
     "name": "stderr",
     "output_type": "stream",
     "text": [
      "INFO:due.episode.Episode:New utterance by <Agent: Dario>: 'How is it?'\n",
      "INFO:due.episode.Episode:Notifying Agent <Agent: Due>.\n",
      "INFO:due.agent.Due:Received utterance\n",
      "INFO:due.brain.CosineBrain:Best match: 'How are you?\n",
      "INFO:due.brain.CosineBrain:Best match: 'Nothing much, how are you doing?\n",
      "INFO:due.brain.CosineBrain:Best match: 'Nothing much, how are you doing?\n",
      "INFO:due.episode.Episode:New utterance by <Agent: Due>: 'Hella good homie!'\n",
      "INFO:due.episode.Episode:Notifying Agent <Agent: Dario>.\n",
      "INFO:due.agent.HumanAgent:Utterance received.\n"
     ]
    }
   ],
   "source": [
    "me.say(\"How is it?\", e)"
   ]
  },
  {
   "cell_type": "markdown",
   "metadata": {},
   "source": [
    "## Actions\n",
    "Agents can perform Actions. Here we train an Agent to perform the example action that is provided with the framework."
   ]
  },
  {
   "cell_type": "code",
   "execution_count": 8,
   "metadata": {
    "collapsed": false
   },
   "outputs": [
    {
     "name": "stderr",
     "output_type": "stream",
     "text": [
      "INFO:due.agent.HumanAgent:New episode callback: <due.episode.Episode object at 0x7f99afce06a0>\n",
      "INFO:due.episode.Episode:New utterance by <Agent: Alice>: 'Do that example action please'\n",
      "INFO:due.episode.Episode:New action by <Agent: Bob>: '<class 'due.action.ExampleAction'>'\n",
      "INFO:due.episode.Episode:New utterance by <Agent: Bob>: 'Ok'\n",
      "INFO:due.episode.Episode:New utterance by <Agent: Alice>: 'Thanks'\n",
      "INFO:due.episode.Episode:New utterance by <Agent: Bob>: 'You're welcome'\n",
      "INFO:due.episode.Episode:Agent <Agent: Alice> left.\n"
     ]
    }
   ],
   "source": [
    "from due import agent, episode\n",
    "from due.action import ExampleAction\n",
    "from due.brain import CosineBrain\n",
    "\n",
    "alice = agent.HumanAgent(name=\"Alice\")\n",
    "bob = agent.HumanAgent(name=\"Bob\")\n",
    "\n",
    "e = alice.start_episode(bob)\n",
    "alice.say(\"Do that example action please\", e)\n",
    "bob.do(ExampleAction, e)\n",
    "bob.say(\"Ok\", e)\n",
    "alice.say(\"Thanks\", e)\n",
    "bob.say(\"You're welcome\", e)\n",
    "alice.leave(e)"
   ]
  },
  {
   "cell_type": "code",
   "execution_count": 9,
   "metadata": {
    "collapsed": false
   },
   "outputs": [
    {
     "name": "stderr",
     "output_type": "stream",
     "text": [
      "INFO:due.agent.Due:Learning some episodes.\n"
     ]
    }
   ],
   "source": [
    "me = agent.HumanAgent(name=\"Dario\")\n",
    "due = agent.Due()\n",
    "due.learn_episodes([e])"
   ]
  },
  {
   "cell_type": "code",
   "execution_count": 10,
   "metadata": {
    "collapsed": false
   },
   "outputs": [
    {
     "name": "stderr",
     "output_type": "stream",
     "text": [
      "INFO:due.agent.Due:Got invited to a new episode.\n",
      "INFO:due.episode.Episode:New utterance by <Agent: Dario>: 'Do your action please'\n",
      "INFO:due.episode.Episode:Type.Utterance\n",
      "INFO:due.episode.Episode:<enum 'Type'>\n",
      "INFO:due.episode.Episode:True\n",
      "INFO:due.episode.Episode:(<Type.Utterance: 'utterance'>,)\n",
      "INFO:due.episode.Episode:<class 'tuple'>\n",
      "INFO:due.brain.CosineBrain:Best match: 'Do that example action please\n",
      "INFO:due.episode.Episode:New action by <Agent: Due>: '<class 'due.action.ExampleAction'>'\n"
     ]
    }
   ],
   "source": [
    "e = me.start_episode(due)\n",
    "me.say(\"Do your action please\", e)"
   ]
  },
  {
   "cell_type": "code",
   "execution_count": null,
   "metadata": {
    "collapsed": true
   },
   "outputs": [],
   "source": []
  }
 ],
 "metadata": {
  "anaconda-cloud": {},
  "kernelspec": {
   "display_name": "Python [conda root]",
   "language": "python",
   "name": "conda-root-py"
  },
  "language_info": {
   "codemirror_mode": {
    "name": "ipython",
    "version": 3
   },
   "file_extension": ".py",
   "mimetype": "text/x-python",
   "name": "python",
   "nbconvert_exporter": "python",
   "pygments_lexer": "ipython3",
   "version": "3.5.2"
  }
 },
 "nbformat": 4,
 "nbformat_minor": 1
}
